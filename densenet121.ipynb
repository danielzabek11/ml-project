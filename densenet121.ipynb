{
  "nbformat": 4,
  "nbformat_minor": 0,
  "metadata": {
    "colab": {
      "provenance": [],
      "gpuType": "T4"
    },
    "kernelspec": {
      "name": "python3",
      "display_name": "Python 3"
    },
    "language_info": {
      "name": "python"
    },
    "accelerator": "GPU"
  },
  "cells": [
    {
      "cell_type": "code",
      "execution_count": null,
      "metadata": {
        "id": "4JKBvf0ppCbR",
        "colab": {
          "base_uri": "https://localhost:8080/"
        },
        "outputId": "5d84c514-4435-4f5f-e61c-7545e6d7dbf1"
      },
      "outputs": [
        {
          "output_type": "stream",
          "name": "stdout",
          "text": [
            "Mounted at /content/drive\n"
          ]
        }
      ],
      "source": [
        "from google.colab import drive\n",
        "drive.mount('/content/drive')"
      ]
    },
    {
      "cell_type": "code",
      "source": [
        "import zipfile\n",
        "zip_ref = zipfile.ZipFile(\"/content/drive/MyDrive/brain-mri-dataset.zip\", 'r')\n",
        "zip_ref.extractall(\"/content/dataset\")\n",
        "zip_ref.close()"
      ],
      "metadata": {
        "id": "VMztqmG0pIg4"
      },
      "execution_count": null,
      "outputs": []
    },
    {
      "cell_type": "code",
      "source": [
        "from sklearn.model_selection import KFold\n",
        "from tensorflow.keras.preprocessing.image import ImageDataGenerator\n",
        "from tensorflow.keras.models import Sequential\n",
        "from tensorflow.keras.layers import BatchNormalization, Dense, Dropout, Flatten\n",
        "from tensorflow.keras.optimizers import Adamax\n",
        "from tensorflow.keras import regularizers\n",
        "import tensorflow as tf\n",
        "import numpy as np\n",
        "import os\n",
        "import pandas as pd\n",
        "import matplotlib.pyplot as plt\n",
        "from sklearn.metrics import confusion_matrix, classification_report\n",
        "import seaborn as sns"
      ],
      "metadata": {
        "id": "FYWF67TTpIcT"
      },
      "execution_count": null,
      "outputs": []
    },
    {
      "cell_type": "code",
      "source": [
        "train_path = './dataset/Training'\n",
        "\n",
        "filepaths = []\n",
        "labels = []\n",
        "\n",
        "directories = os.listdir(train_path) # store list of disease types\n",
        "for directory in directories:\n",
        "    f_path = os.path.join(train_path, directory) # join filepath with tumor name to get full path\n",
        "    filelists = os.listdir(f_path) # get all files in list in current f_path\n",
        "    filepaths.extend([os.path.join(f_path, file) for file in filelists]) # in current f_path add all files in filelist of it\n",
        "    labels.extend([directory] * len(filelists)) # add label to current directory, number of labels equal to len(filelists)\n",
        "\n",
        "train_frame = pd.DataFrame({'filepaths': filepaths, 'label': labels})"
      ],
      "metadata": {
        "id": "wN-tEtZgpIZu"
      },
      "execution_count": null,
      "outputs": []
    },
    {
      "cell_type": "code",
      "source": [
        "test_path = './dataset/Testing'\n",
        "\n",
        "filepaths = []\n",
        "labels = []\n",
        "\n",
        "directories = os.listdir(test_path)\n",
        "for directory in directories:\n",
        "    f_path = os.path.join(test_path, directory)\n",
        "    filelists = os.listdir(f_path)\n",
        "    filepaths.extend([os.path.join(f_path, file) for file in filelists])\n",
        "    labels.extend([directory] * len(filelists))\n",
        "\n",
        "test_frame = pd.DataFrame({'filepaths': filepaths, 'label': labels})"
      ],
      "metadata": {
        "id": "X7GgyD5GpIXZ"
      },
      "execution_count": null,
      "outputs": []
    },
    {
      "cell_type": "code",
      "source": [
        "img_size = (224, 224)\n",
        "batch_size = 16\n",
        "\n",
        "tr_gen = ImageDataGenerator(\n",
        "                            rescale=1./255,\n",
        "                            rotation_range=5,\n",
        "                            width_shift_range=0.05,\n",
        "                            height_shift_range=0.05,\n",
        "                            horizontal_flip=True\n",
        "                            )\n",
        "\n",
        "ts_gen = ImageDataGenerator(rescale=1./255)"
      ],
      "metadata": {
        "id": "hf3ORt9TpIUM"
      },
      "execution_count": null,
      "outputs": []
    },
    {
      "cell_type": "code",
      "source": [
        "kf = KFold(n_splits=5, shuffle=True, random_state=42)\n",
        "fold_accuracies = []\n",
        "fold_losses = []\n",
        "\n",
        "for fold, (train_index, val_index) in enumerate(kf.split(train_frame)):\n",
        "    print(f\"Fold {fold + 1}\")\n",
        "\n",
        "    train_df = train_frame.iloc[train_index]\n",
        "    valid_df = train_frame.iloc[val_index]\n",
        "\n",
        "    train_gen = tr_gen.flow_from_dataframe(train_df, x_col='filepaths', y_col='label', target_size=img_size,\n",
        "                                           class_mode='categorical', color_mode='rgb', shuffle=True, batch_size=batch_size)\n",
        "\n",
        "    valid_gen = ts_gen.flow_from_dataframe(valid_df, x_col='filepaths', y_col='label', target_size=img_size,\n",
        "                                           class_mode='categorical', color_mode='rgb', shuffle=True, batch_size=batch_size)\n",
        "\n",
        "    base_model = tf.keras.applications.DenseNet121(include_top=False, weights='imagenet', input_shape=(224, 224, 3))\n",
        "\n",
        "    model = Sequential([\n",
        "        base_model,\n",
        "        Flatten(),\n",
        "        Dropout(rate=0.3),\n",
        "        Dense(len(train_gen.class_indices), activation='softmax')\n",
        "    ])\n",
        "\n",
        "    model.compile(Adamax(learning_rate=0.001), loss='categorical_crossentropy', metrics=['accuracy'])\n",
        "\n",
        "    history = model.fit(train_gen, validation_data=valid_gen, epochs=8, shuffle=True, verbose=1)\n",
        "\n",
        "    fold_accuracies.append(history.history['val_accuracy'][-1])\n",
        "    fold_losses.append(history.history['val_loss'][-1])\n",
        "\n",
        "avg_accuracy = np.mean(fold_accuracies)\n",
        "avg_loss = np.mean(fold_losses)\n",
        "\n",
        "var_accuracy = np.var(fold_accuracies)\n",
        "var_loss = np.var(fold_losses)\n",
        "\n",
        "print(f\"Average Accuracy: {avg_accuracy:.4f}\")\n",
        "print(f\"Variance in Accuracy: {var_accuracy:.4f}\")\n",
        "print(f\"Average Loss: {avg_loss:.4f}\")\n",
        "print(f\"Variance in Loss: {var_loss:.4f}\")\n"
      ],
      "metadata": {
        "id": "Im4abS3TpIOm",
        "colab": {
          "base_uri": "https://localhost:8080/"
        },
        "outputId": "8c89b0e6-12ef-476e-d097-5079ef05cda0"
      },
      "execution_count": null,
      "outputs": [
        {
          "output_type": "stream",
          "name": "stdout",
          "text": [
            "Fold 1\n",
            "Found 4569 validated image filenames belonging to 4 classes.\n",
            "Found 1143 validated image filenames belonging to 4 classes.\n",
            "Downloading data from https://storage.googleapis.com/tensorflow/keras-applications/densenet/densenet121_weights_tf_dim_ordering_tf_kernels_notop.h5\n",
            "29084464/29084464 [==============================] - 1s 0us/step\n",
            "Epoch 1/8\n",
            "286/286 [==============================] - 163s 346ms/step - loss: 0.6510 - accuracy: 0.8558 - val_loss: 0.2380 - val_accuracy: 0.9248\n",
            "Epoch 2/8\n",
            "286/286 [==============================] - 85s 298ms/step - loss: 0.2424 - accuracy: 0.9337 - val_loss: 0.3205 - val_accuracy: 0.9029\n",
            "Epoch 3/8\n",
            "286/286 [==============================] - 86s 298ms/step - loss: 0.1851 - accuracy: 0.9464 - val_loss: 4.2392 - val_accuracy: 0.9003\n",
            "Epoch 4/8\n",
            "286/286 [==============================] - 85s 295ms/step - loss: 0.0915 - accuracy: 0.9705 - val_loss: 0.2148 - val_accuracy: 0.9668\n",
            "Epoch 5/8\n",
            "286/286 [==============================] - 85s 296ms/step - loss: 0.1710 - accuracy: 0.9678 - val_loss: 0.1234 - val_accuracy: 0.9738\n",
            "Epoch 6/8\n",
            "286/286 [==============================] - 85s 298ms/step - loss: 0.1211 - accuracy: 0.9665 - val_loss: 0.1125 - val_accuracy: 0.9720\n",
            "Epoch 7/8\n",
            "286/286 [==============================] - 86s 301ms/step - loss: 0.0609 - accuracy: 0.9803 - val_loss: 0.0762 - val_accuracy: 0.9729\n",
            "Epoch 8/8\n",
            "286/286 [==============================] - 85s 298ms/step - loss: 0.0631 - accuracy: 0.9790 - val_loss: 0.7505 - val_accuracy: 0.9423\n",
            "Fold 2\n",
            "Found 4569 validated image filenames belonging to 4 classes.\n",
            "Found 1143 validated image filenames belonging to 4 classes.\n",
            "Epoch 1/8\n",
            "286/286 [==============================] - 132s 300ms/step - loss: 0.6189 - accuracy: 0.8608 - val_loss: 0.4771 - val_accuracy: 0.8731\n",
            "Epoch 2/8\n",
            "286/286 [==============================] - 85s 297ms/step - loss: 0.2472 - accuracy: 0.9396 - val_loss: 0.2594 - val_accuracy: 0.9379\n",
            "Epoch 3/8\n",
            "286/286 [==============================] - 85s 296ms/step - loss: 0.1214 - accuracy: 0.9604 - val_loss: 0.1336 - val_accuracy: 0.9536\n",
            "Epoch 4/8\n",
            "286/286 [==============================] - 83s 291ms/step - loss: 0.1355 - accuracy: 0.9630 - val_loss: 0.1279 - val_accuracy: 0.9580\n",
            "Epoch 5/8\n",
            "286/286 [==============================] - 86s 301ms/step - loss: 0.0900 - accuracy: 0.9735 - val_loss: 0.1546 - val_accuracy: 0.9528\n",
            "Epoch 6/8\n",
            "286/286 [==============================] - 85s 299ms/step - loss: 0.0803 - accuracy: 0.9783 - val_loss: 0.1427 - val_accuracy: 0.9641\n",
            "Epoch 7/8\n",
            "286/286 [==============================] - 86s 299ms/step - loss: 0.0970 - accuracy: 0.9750 - val_loss: 0.0713 - val_accuracy: 0.9799\n",
            "Epoch 8/8\n",
            "286/286 [==============================] - 85s 298ms/step - loss: 0.0632 - accuracy: 0.9816 - val_loss: 0.0633 - val_accuracy: 0.9825\n",
            "Fold 3\n",
            "Found 4570 validated image filenames belonging to 4 classes.\n",
            "Found 1142 validated image filenames belonging to 4 classes.\n",
            "Epoch 1/8\n",
            "286/286 [==============================] - 145s 346ms/step - loss: 0.6240 - accuracy: 0.8672 - val_loss: 0.4901 - val_accuracy: 0.8485\n",
            "Epoch 2/8\n",
            "286/286 [==============================] - 86s 301ms/step - loss: 0.2101 - accuracy: 0.9392 - val_loss: 0.2105 - val_accuracy: 0.9413\n",
            "Epoch 3/8\n",
            "286/286 [==============================] - 86s 300ms/step - loss: 0.1753 - accuracy: 0.9543 - val_loss: 0.2792 - val_accuracy: 0.9396\n",
            "Epoch 4/8\n",
            "286/286 [==============================] - 85s 298ms/step - loss: 0.1382 - accuracy: 0.9615 - val_loss: 0.4055 - val_accuracy: 0.9475\n",
            "Epoch 5/8\n",
            "286/286 [==============================] - 86s 301ms/step - loss: 0.0998 - accuracy: 0.9716 - val_loss: 0.3949 - val_accuracy: 0.9352\n",
            "Epoch 6/8\n",
            "286/286 [==============================] - 85s 295ms/step - loss: 0.1506 - accuracy: 0.9652 - val_loss: 0.5092 - val_accuracy: 0.9247\n",
            "Epoch 7/8\n",
            "286/286 [==============================] - 86s 299ms/step - loss: 0.0551 - accuracy: 0.9825 - val_loss: 0.1528 - val_accuracy: 0.9632\n",
            "Epoch 8/8\n",
            "286/286 [==============================] - 88s 306ms/step - loss: 0.0430 - accuracy: 0.9886 - val_loss: 0.1088 - val_accuracy: 0.9720\n",
            "Fold 4\n",
            "Found 4570 validated image filenames belonging to 4 classes.\n",
            "Found 1142 validated image filenames belonging to 4 classes.\n",
            "Epoch 1/8\n",
            "286/286 [==============================] - 131s 302ms/step - loss: 0.7222 - accuracy: 0.8608 - val_loss: 0.3613 - val_accuracy: 0.9072\n",
            "Epoch 2/8\n",
            "286/286 [==============================] - 86s 301ms/step - loss: 0.1666 - accuracy: 0.9466 - val_loss: 0.1604 - val_accuracy: 0.9527\n",
            "Epoch 3/8\n",
            "286/286 [==============================] - 87s 303ms/step - loss: 0.1753 - accuracy: 0.9532 - val_loss: 0.2065 - val_accuracy: 0.9440\n",
            "Epoch 4/8\n",
            "286/286 [==============================] - 89s 311ms/step - loss: 0.0963 - accuracy: 0.9716 - val_loss: 0.2108 - val_accuracy: 0.9431\n",
            "Epoch 5/8\n",
            "286/286 [==============================] - 88s 306ms/step - loss: 0.1296 - accuracy: 0.9665 - val_loss: 0.5445 - val_accuracy: 0.8853\n",
            "Epoch 6/8\n",
            "286/286 [==============================] - 87s 303ms/step - loss: 0.1507 - accuracy: 0.9615 - val_loss: 6.3855 - val_accuracy: 0.9046\n",
            "Epoch 7/8\n",
            "286/286 [==============================] - 89s 310ms/step - loss: 0.0782 - accuracy: 0.9761 - val_loss: 1.2835 - val_accuracy: 0.9177\n",
            "Epoch 8/8\n",
            "286/286 [==============================] - 86s 300ms/step - loss: 0.1335 - accuracy: 0.9724 - val_loss: 0.2453 - val_accuracy: 0.9667\n",
            "Fold 5\n",
            "Found 4570 validated image filenames belonging to 4 classes.\n",
            "Found 1142 validated image filenames belonging to 4 classes.\n",
            "Epoch 1/8\n",
            "286/286 [==============================] - 133s 307ms/step - loss: 0.7564 - accuracy: 0.8560 - val_loss: 0.2797 - val_accuracy: 0.9247\n",
            "Epoch 2/8\n",
            "286/286 [==============================] - 90s 314ms/step - loss: 0.3027 - accuracy: 0.9328 - val_loss: 0.3569 - val_accuracy: 0.9247\n",
            "Epoch 3/8\n",
            "286/286 [==============================] - 86s 299ms/step - loss: 0.1497 - accuracy: 0.9549 - val_loss: 0.2474 - val_accuracy: 0.9422\n",
            "Epoch 4/8\n",
            "286/286 [==============================] - 86s 301ms/step - loss: 0.1067 - accuracy: 0.9681 - val_loss: 0.1677 - val_accuracy: 0.9580\n",
            "Epoch 5/8\n",
            "286/286 [==============================] - 85s 299ms/step - loss: 0.1282 - accuracy: 0.9643 - val_loss: 0.2688 - val_accuracy: 0.9405\n",
            "Epoch 6/8\n",
            "286/286 [==============================] - 86s 300ms/step - loss: 0.0912 - accuracy: 0.9751 - val_loss: 0.1002 - val_accuracy: 0.9667\n",
            "Epoch 7/8\n",
            "286/286 [==============================] - 84s 295ms/step - loss: 0.1611 - accuracy: 0.9689 - val_loss: 0.2179 - val_accuracy: 0.9641\n",
            "Epoch 8/8\n",
            "286/286 [==============================] - 88s 306ms/step - loss: 0.0621 - accuracy: 0.9834 - val_loss: 0.1210 - val_accuracy: 0.9658\n",
            "Average Accuracy: 0.9659\n",
            "Variance in Accuracy: 0.0002\n",
            "Average Loss: 0.2578\n",
            "Variance in Loss: 0.0643\n"
          ]
        }
      ]
    },
    {
      "cell_type": "code",
      "source": [
        "full_train_gen = tr_gen.flow_from_dataframe(train_frame, x_col='filepaths', y_col='label', target_size=img_size,\n",
        "                                            class_mode='categorical', color_mode='rgb', shuffle=True, batch_size=batch_size)\n",
        "\n",
        "base_model = tf.keras.applications.DenseNet121(include_top=False, weights='imagenet', input_shape=(224, 224, 3))\n",
        "\n",
        "model = Sequential([\n",
        "    base_model,\n",
        "    Flatten(),\n",
        "    Dropout(rate=0.3),\n",
        "    Dense(len(full_train_gen.class_indices), activation='softmax')\n",
        "])\n",
        "\n",
        "model.compile(Adamax(learning_rate=0.001), loss='categorical_crossentropy', metrics=['accuracy'])\n",
        "\n",
        "model.fit(full_train_gen, epochs=8, shuffle=True, verbose=1)\n",
        "\n",
        "test_gen = ts_gen.flow_from_dataframe(test_frame, x_col='filepaths', y_col='label', target_size=img_size,\n",
        "                                      class_mode='categorical', color_mode='rgb', shuffle=False, batch_size=batch_size)\n",
        "\n",
        "test_score = model.evaluate(test_gen, steps=len(test_gen), verbose=1)\n",
        "test_loss, test_accuracy = test_score\n",
        "\n",
        "print(f\"Test Loss: {test_loss}\")\n",
        "print(f\"Test Accuracy: {test_accuracy}\")"
      ],
      "metadata": {
        "id": "RRj_MMnnpIBr",
        "colab": {
          "base_uri": "https://localhost:8080/"
        },
        "outputId": "a07db779-f505-4b80-e9c3-725f9aca07d5"
      },
      "execution_count": null,
      "outputs": [
        {
          "output_type": "stream",
          "name": "stdout",
          "text": [
            "Found 5712 validated image filenames belonging to 4 classes.\n",
            "Epoch 1/8\n",
            "357/357 [==============================] - 153s 296ms/step - loss: 0.6872 - accuracy: 0.8533\n",
            "Epoch 2/8\n",
            "357/357 [==============================] - 103s 287ms/step - loss: 0.2298 - accuracy: 0.9329\n",
            "Epoch 3/8\n",
            "357/357 [==============================] - 105s 293ms/step - loss: 0.1716 - accuracy: 0.9522\n",
            "Epoch 4/8\n",
            "357/357 [==============================] - 105s 294ms/step - loss: 0.1536 - accuracy: 0.9629\n",
            "Epoch 5/8\n",
            "357/357 [==============================] - 103s 289ms/step - loss: 0.0887 - accuracy: 0.9715\n",
            "Epoch 6/8\n",
            "357/357 [==============================] - 105s 295ms/step - loss: 0.0987 - accuracy: 0.9736\n",
            "Epoch 7/8\n",
            "357/357 [==============================] - 102s 286ms/step - loss: 0.0470 - accuracy: 0.9862\n",
            "Epoch 8/8\n",
            "357/357 [==============================] - 104s 290ms/step - loss: 0.0422 - accuracy: 0.9865\n",
            "Found 1311 validated image filenames belonging to 4 classes.\n",
            "82/82 [==============================] - 10s 101ms/step - loss: 0.0788 - accuracy: 0.9794\n",
            "Test Loss: 0.07883527874946594\n",
            "Test Accuracy: 0.9794050455093384\n"
          ]
        }
      ]
    },
    {
      "cell_type": "code",
      "source": [
        "train_acc = history.history['accuracy']\n",
        "train_loss = history.history['loss']\n",
        "\n",
        "Epochs = [i + 1 for i in range(len(train_acc))]\n",
        "\n",
        "fig, axes = plt.subplots(1, 2, figsize=(16, 6))\n",
        "fig.suptitle('Training History', fontsize=16, y=1.02)\n",
        "\n",
        "axes[0].plot(Epochs, train_loss, 'r', label='Training Loss')\n",
        "axes[0].set_title('Training Loss', fontsize=18)\n",
        "axes[0].set_xlabel('Epochs')\n",
        "axes[0].set_ylabel('Loss')\n",
        "axes[0].legend()\n",
        "\n",
        "axes[1].plot(Epochs, train_acc, 'r', label='Training Accuracy')\n",
        "axes[1].set_title('Training Accuracy', fontsize=18)\n",
        "axes[1].set_xlabel('Epochs')\n",
        "axes[1].set_ylabel('Accuracy')\n",
        "axes[1].legend()\n",
        "\n",
        "plt.tight_layout()\n",
        "plt.show()"
      ],
      "metadata": {
        "id": "n3cklNQDpSph"
      },
      "execution_count": null,
      "outputs": []
    },
    {
      "cell_type": "code",
      "source": [
        "test_preds = model.predict(test_gen, steps=len(test_gen), verbose=1)\n",
        "test_y_pred = np.argmax(test_preds, axis=1)\n",
        "\n",
        "test_cm = confusion_matrix(test_gen.classes, test_y_pred)\n",
        "test_classes = list(test_gen.class_indices.keys())\n",
        "\n",
        "plt.figure(figsize=(10, 10))\n",
        "sns.set(font_scale=1.2)\n",
        "sns.heatmap(test_cm, annot=True, fmt='d', cmap='Blues', xticklabels=test_classes, yticklabels=test_classes)\n",
        "plt.title('Confusion Matrix - Test Set')\n",
        "plt.xlabel('Predicted Label')\n",
        "plt.ylabel('True Label')\n",
        "plt.xticks(rotation=45)\n",
        "plt.show()\n",
        "\n",
        "print(classification_report(test_gen.classes, test_y_pred, target_names=test_classes))"
      ],
      "metadata": {
        "id": "nvKLSK5qpSh2",
        "colab": {
          "base_uri": "https://localhost:8080/",
          "height": 1000
        },
        "outputId": "961e8602-e3d2-49c0-cd5b-93c769c34b28"
      },
      "execution_count": null,
      "outputs": [
        {
          "metadata": {
            "tags": null
          },
          "name": "stdout",
          "output_type": "stream",
          "text": [
            "82/82 [==============================] - 6s 53ms/step\n"
          ]
        },
        {
          "data": {
            "image/png": "[encoded data removed]",
            "text/plain": [
              "<Figure size 1000x1000 with 2 Axes>"
            ]
          },
          "metadata": {},
          "output_type": "display_data"
        },
        {
          "metadata": {
            "tags": null
          },
          "name": "stdout",
          "output_type": "stream",
          "text": [
            "              precision    recall  f1-score   support\n",
            "\n",
            "      glioma       0.97      0.98      0.98       300\n",
            "  meningioma       0.97      0.97      0.97       306\n",
            "     notumor       1.00      0.99      0.99       405\n",
            "   pituitary       0.97      0.98      0.98       300\n",
            "\n",
            "    accuracy                           0.98      1311\n",
            "   macro avg       0.98      0.98      0.98      1311\n",
            "weighted avg       0.98      0.98      0.98      1311\n",
            "\n"
          ]
        }
      ]
    }
  ]
}