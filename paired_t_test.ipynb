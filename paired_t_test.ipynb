{
  "nbformat": 4,
  "nbformat_minor": 0,
  "metadata": {
    "colab": {
      "provenance": []
    },
    "kernelspec": {
      "name": "python3",
      "display_name": "Python 3"
    },
    "language_info": {
      "name": "python"
    }
  },
  "cells": [
    {
      "cell_type": "code",
      "execution_count": 7,
      "metadata": {
        "id": "zprh7JLnIU_R"
      },
      "outputs": [],
      "source": [
        "import numpy as np\n",
        "from scipy.stats import ttest_rel\n",
        "\n",
        "effnet_accuracies = [0.9860, 0.9860, 0.9851, 0.9886, 0.9834]\n",
        "densenet_accuracies = [0.9423, 0.9825, 0.972, 0.9667, 0.9658]"
      ]
    },
    {
      "cell_type": "markdown",
      "source": [
        "Perform t test using ttest_rel"
      ],
      "metadata": {
        "id": "ojc4NFk9Ibed"
      }
    },
    {
      "cell_type": "code",
      "source": [
        "t_statistic, p_value = ttest_rel(effnet_accuracies, densenet_accuracies)\n",
        "\n",
        "print(f\"T-statistic: {t_statistic}\")\n",
        "print(f\"P-value: {p_value}\")"
      ],
      "metadata": {
        "colab": {
          "base_uri": "https://localhost:8080/"
        },
        "id": "mXY3T-tsIY_u",
        "outputId": "388101bf-3e5a-4574-de0e-bc45fc65eb49"
      },
      "execution_count": 8,
      "outputs": [
        {
          "output_type": "stream",
          "name": "stdout",
          "text": [
            "T-statistic: 2.9905986330334335\n",
            "P-value: 0.04031427618336748\n"
          ]
        }
      ]
    }
  ]
}